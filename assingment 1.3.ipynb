{
 "cells": [
  {
   "cell_type": "code",
   "execution_count": 1,
   "metadata": {},
   "outputs": [
    {
     "name": "stdout",
     "output_type": "stream",
     "text": [
      "Enter the first name: Ramesh\n",
      "Enter the second name:laldas\n",
      "hsemaR sadlal\n"
     ]
    }
   ],
   "source": [
    "####((((ASSINGMENT1.3)))######Write a Python program to accept the user's first and last name and then getting them\n",
    "#####printed in the the reverse order with a space between first name and last name.\n",
    "first_name=input(\"Enter the first name: \")\n",
    "last_name=input(\"Enter the second name:\")\n",
    "print(first_name[::-1] +\" \"+last_name[::-1])"
   ]
  },
  {
   "cell_type": "code",
   "execution_count": null,
   "metadata": {},
   "outputs": [],
   "source": []
  }
 ],
 "metadata": {
  "kernelspec": {
   "display_name": "Python 3",
   "language": "python",
   "name": "python3"
  },
  "language_info": {
   "codemirror_mode": {
    "name": "ipython",
    "version": 3
   },
   "file_extension": ".py",
   "mimetype": "text/x-python",
   "name": "python",
   "nbconvert_exporter": "python",
   "pygments_lexer": "ipython3",
   "version": "3.6.4"
  }
 },
 "nbformat": 4,
 "nbformat_minor": 2
}
